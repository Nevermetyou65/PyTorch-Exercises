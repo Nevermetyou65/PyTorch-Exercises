{
  "nbformat": 4,
  "nbformat_minor": 0,
  "metadata": {
    "colab": {
      "name": "linear regression with torch.ipynb",
      "provenance": [],
      "collapsed_sections": [],
      "authorship_tag": "ABX9TyOnoUiWAWFKgIOn/3xHYGCR",
      "include_colab_link": true
    },
    "kernelspec": {
      "name": "python3",
      "display_name": "Python 3"
    },
    "language_info": {
      "name": "python"
    }
  },
  "cells": [
    {
      "cell_type": "markdown",
      "metadata": {
        "id": "view-in-github",
        "colab_type": "text"
      },
      "source": [
        "<a href=\"https://colab.research.google.com/github/Nevermetyou65/PyTorch-Exercises/blob/main/linear_regression_with_torch.ipynb\" target=\"_parent\"><img src=\"https://colab.research.google.com/assets/colab-badge.svg\" alt=\"Open In Colab\"/></a>"
      ]
    },
    {
      "cell_type": "code",
      "metadata": {
        "id": "YFYZCBNqkh0U"
      },
      "source": [
        "import torch\n",
        "from torch.nn import Linear # Linear  เป็น class"
      ],
      "execution_count": null,
      "outputs": []
    },
    {
      "cell_type": "code",
      "metadata": {
        "id": "wI2mxzXhlMkL"
      },
      "source": [
        "w = torch.tensor(3.0, requires_grad=True)\n",
        "b = torch.tensor(1.0,requires_grad=True)"
      ],
      "execution_count": null,
      "outputs": []
    },
    {
      "cell_type": "code",
      "metadata": {
        "id": "CRou2dedl1jj"
      },
      "source": [
        "def forward(x):\n",
        "    y = w*x + b\n",
        "    return y"
      ],
      "execution_count": null,
      "outputs": []
    },
    {
      "cell_type": "code",
      "metadata": {
        "colab": {
          "base_uri": "https://localhost:8080/"
        },
        "id": "cSVEhAVxl-gH",
        "outputId": "fe7cec21-d262-48cf-bd94-0a4641f3a03f"
      },
      "source": [
        "x = torch.tensor([[4], [7]])\n",
        "forward(x)"
      ],
      "execution_count": null,
      "outputs": [
        {
          "output_type": "execute_result",
          "data": {
            "text/plain": [
              "tensor([[13.],\n",
              "        [22.]], grad_fn=<AddBackward0>)"
            ]
          },
          "metadata": {},
          "execution_count": 4
        }
      ]
    },
    {
      "cell_type": "code",
      "metadata": {
        "id": "AuzbTxiYmwjU"
      },
      "source": [
        "# torch.manual_seed(1)"
      ],
      "execution_count": null,
      "outputs": []
    },
    {
      "cell_type": "code",
      "metadata": {
        "colab": {
          "base_uri": "https://localhost:8080/"
        },
        "id": "9BD7dqwQnQj5",
        "outputId": "4cf02c86-1450-4162-d15c-0c3c614c156b"
      },
      "source": [
        "model = Linear(in_features=1, out_features=1)\n",
        "print(model.bias,\"\\n\", model.weight)"
      ],
      "execution_count": null,
      "outputs": [
        {
          "output_type": "stream",
          "text": [
            "Parameter containing:\n",
            "tensor([0.6372], requires_grad=True) \n",
            " Parameter containing:\n",
            "tensor([[-0.8884]], requires_grad=True)\n"
          ],
          "name": "stdout"
        }
      ]
    },
    {
      "cell_type": "code",
      "metadata": {
        "colab": {
          "base_uri": "https://localhost:8080/"
        },
        "id": "uDTf5-UqnpJz",
        "outputId": "ef6b3bc0-5242-43c0-fb8a-d76d2e130465"
      },
      "source": [
        "x = torch.tensor([[2.0], [3.3]])\n",
        "print(x.size())\n",
        "print(model(x))"
      ],
      "execution_count": null,
      "outputs": [
        {
          "output_type": "stream",
          "text": [
            "torch.Size([2, 1])\n",
            "tensor([[-1.1396],\n",
            "        [-2.2946]], grad_fn=<AddmmBackward>)\n"
          ],
          "name": "stdout"
        }
      ]
    },
    {
      "cell_type": "code",
      "metadata": {
        "id": "SyEruoYqvNak"
      },
      "source": [
        "import torch.nn as nn\n",
        "import matplotlib.pyplot as plt\n",
        "import numpy as np"
      ],
      "execution_count": null,
      "outputs": []
    },
    {
      "cell_type": "code",
      "metadata": {
        "colab": {
          "base_uri": "https://localhost:8080/",
          "height": 296
        },
        "id": "HSF-AvaoyO5I",
        "outputId": "0b1cd30e-113b-49b2-9c65-455f7725410c"
      },
      "source": [
        "X = torch.randn(100, 1) * 10\n",
        "y = X + 3 * torch.randn(100, 1)\n",
        "\n",
        "plt.plot(X, y, \"o\")\n",
        "plt.ylabel(\"y\")\n",
        "plt.xlabel(\"X\")"
      ],
      "execution_count": null,
      "outputs": [
        {
          "output_type": "execute_result",
          "data": {
            "text/plain": [
              "Text(0.5, 0, 'X')"
            ]
          },
          "metadata": {},
          "execution_count": 9
        },
        {
          "output_type": "display_data",
          "data": {
            "image/png": "[encoded data removed]",
            "text/plain": [
              "<Figure size 432x288 with 1 Axes>"
            ]
          },
          "metadata": {
            "needs_background": "light"
          }
        }
      ]
    },
    {
      "cell_type": "code",
      "metadata": {
        "id": "tMELEqZWqbZq"
      },
      "source": [
        "class LR(nn.Module): # nn.Module เป็น base ของทุก class\n",
        "    def __init__(self, input_size, output_size): \n",
        "        # input_size กับ output_size ประกาศให้สอดคล้องกับ Linear class\n",
        "        super().__init__()\n",
        "        self.linear = nn.Linear(input_size, output_size)\n",
        "\n",
        "    def forward(self, x):\n",
        "        pred = self.linear(x)\n",
        "        return pred       "
      ],
      "execution_count": null,
      "outputs": []
    },
    {
      "cell_type": "code",
      "metadata": {
        "colab": {
          "base_uri": "https://localhost:8080/"
        },
        "id": "y69Pw9Rnv3zI",
        "outputId": "a98bf965-f941-4f50-8758-6808ef9957d1"
      },
      "source": [
        "torch.manual_seed(1)\n",
        "model = LR(1, 1)\n",
        "print(model)\n",
        "# print(list(model.parameters()))"
      ],
      "execution_count": null,
      "outputs": [
        {
          "output_type": "stream",
          "text": [
            "LR(\n",
            "  (linear): Linear(in_features=1, out_features=1, bias=True)\n",
            ")\n"
          ],
          "name": "stdout"
        }
      ]
    },
    {
      "cell_type": "code",
      "metadata": {
        "colab": {
          "base_uri": "https://localhost:8080/"
        },
        "id": "yqbPm2tdxlgC",
        "outputId": "48a05ece-4f6c-40c5-c3e2-50681391a660"
      },
      "source": [
        "w, b = model.parameters()\n",
        "print(w, b)"
      ],
      "execution_count": null,
      "outputs": [
        {
          "output_type": "stream",
          "text": [
            "Parameter containing:\n",
            "tensor([[0.5153]], requires_grad=True) Parameter containing:\n",
            "tensor([-0.4414], requires_grad=True)\n"
          ],
          "name": "stdout"
        }
      ]
    },
    {
      "cell_type": "code",
      "metadata": {
        "colab": {
          "base_uri": "https://localhost:8080/"
        },
        "id": "kPDf9gwn0MDd",
        "outputId": "78c7664d-5140-4852-9228-861f0b206293"
      },
      "source": [
        "w1 = w[0][0].item() # item() to get python number\n",
        "b1 = b[0].item()\n",
        "print(w1, b1)\n",
        "\n",
        "def get_params():\n",
        "    return (w[0][0].item(), b[0].item())"
      ],
      "execution_count": null,
      "outputs": [
        {
          "output_type": "stream",
          "text": [
            "0.5152631998062134 -0.44137823581695557\n"
          ],
          "name": "stdout"
        }
      ]
    },
    {
      "cell_type": "code",
      "metadata": {
        "id": "HaDgKuqR1ZzT"
      },
      "source": [
        "def plot_fit(title):\n",
        "    plt.title = title\n",
        "    w1, b1 = get_params()\n",
        "    x1 = np.array([-30, 30])\n",
        "    y1 = w1*x1 + b1\n",
        "\n",
        "    plt.plot(x1, y1, \"r\")\n",
        "    plt.scatter(X, y)\n",
        "    plt.show()"
      ],
      "execution_count": null,
      "outputs": []
    },
    {
      "cell_type": "code",
      "metadata": {
        "colab": {
          "base_uri": "https://localhost:8080/",
          "height": 265
        },
        "id": "NDP6FWpf2aAf",
        "outputId": "7a575273-4fba-47c4-bcf6-7ca86fff768a"
      },
      "source": [
        "plot_fit(\"Initial model\")"
      ],
      "execution_count": null,
      "outputs": [
        {
          "output_type": "display_data",
          "data": {
            "image/png": "[encoded data removed]",
            "text/plain": [
              "<Figure size 432x288 with 1 Axes>"
            ]
          },
          "metadata": {
            "needs_background": "light"
          }
        }
      ]
    },
    {
      "cell_type": "code",
      "metadata": {
        "colab": {
          "base_uri": "https://localhost:8080/"
        },
        "id": "wx7pY5a4p-Qi",
        "outputId": "1407f77f-dceb-4621-dd49-b805adaed8c6"
      },
      "source": [
        "print(list(model.parameters()))"
      ],
      "execution_count": null,
      "outputs": [
        {
          "output_type": "stream",
          "text": [
            "[Parameter containing:\n",
            "tensor([[0.5153]], requires_grad=True), Parameter containing:\n",
            "tensor([-0.4414], requires_grad=True)]\n"
          ],
          "name": "stdout"
        }
      ]
    },
    {
      "cell_type": "code",
      "metadata": {
        "id": "P-9cXaTQpZJY"
      },
      "source": [
        "criterion = nn.MSELoss()\n",
        "optimizer = torch.optim.SGD(model.parameters(), lr=0.01)"
      ],
      "execution_count": null,
      "outputs": []
    },
    {
      "cell_type": "code",
      "metadata": {
        "colab": {
          "base_uri": "https://localhost:8080/"
        },
        "id": "wQm3hjRorMFF",
        "outputId": "15f0c3fc-f1b7-47dc-f651-aa156480b412"
      },
      "source": [
        "epochs = 100\n",
        "losses = list()\n",
        "for i in range(epochs):\n",
        "    y_pred = model.forward(X)\n",
        "    loss = criterion(y_pred, y)\n",
        "    print(\"epoch:\", i, \"loss:\", loss.item())\n",
        "    losses.append(loss)\n",
        "\n",
        "    # Training\n",
        "    optimizer.zero_grad()\n",
        "    loss.backward() # -> ได้ gradient ของ theta0  กับ theta1 มา\n",
        "    optimizer.step() # -> update"
      ],
      "execution_count": null,
      "outputs": [
        {
          "output_type": "stream",
          "text": [
            "epoch: 0 loss: 30.927865982055664\n",
            "epoch: 1 loss: 21.896562576293945\n",
            "epoch: 2 loss: 16.73989486694336\n",
            "epoch: 3 loss: 13.793869972229004\n",
            "epoch: 4 loss: 12.109169960021973\n",
            "epoch: 5 loss: 11.144214630126953\n",
            "epoch: 6 loss: 10.590022087097168\n",
            "epoch: 7 loss: 10.270316123962402\n",
            "epoch: 8 loss: 10.084524154663086\n",
            "epoch: 9 loss: 9.975261688232422\n",
            "epoch: 10 loss: 9.90979290008545\n",
            "epoch: 11 loss: 9.869428634643555\n",
            "epoch: 12 loss: 9.84350872039795\n",
            "epoch: 13 loss: 9.82594108581543\n",
            "epoch: 14 loss: 9.813250541687012\n",
            "epoch: 15 loss: 9.803446769714355\n",
            "epoch: 16 loss: 9.795392036437988\n",
            "epoch: 17 loss: 9.788433074951172\n",
            "epoch: 18 loss: 9.782190322875977\n",
            "epoch: 19 loss: 9.776449203491211\n",
            "epoch: 20 loss: 9.771078109741211\n",
            "epoch: 21 loss: 9.76600170135498\n",
            "epoch: 22 loss: 9.761173248291016\n",
            "epoch: 23 loss: 9.756564140319824\n",
            "epoch: 24 loss: 9.752150535583496\n",
            "epoch: 25 loss: 9.747920989990234\n",
            "epoch: 26 loss: 9.743863105773926\n",
            "epoch: 27 loss: 9.739971160888672\n",
            "epoch: 28 loss: 9.73623275756836\n",
            "epoch: 29 loss: 9.732644081115723\n",
            "epoch: 30 loss: 9.72919750213623\n",
            "epoch: 31 loss: 9.725887298583984\n",
            "epoch: 32 loss: 9.722708702087402\n",
            "epoch: 33 loss: 9.719655990600586\n",
            "epoch: 34 loss: 9.716723442077637\n",
            "epoch: 35 loss: 9.713908195495605\n",
            "epoch: 36 loss: 9.711202621459961\n",
            "epoch: 37 loss: 9.708605766296387\n",
            "epoch: 38 loss: 9.706111907958984\n",
            "epoch: 39 loss: 9.703715324401855\n",
            "epoch: 40 loss: 9.701414108276367\n",
            "epoch: 41 loss: 9.699204444885254\n",
            "epoch: 42 loss: 9.697081565856934\n",
            "epoch: 43 loss: 9.695043563842773\n",
            "epoch: 44 loss: 9.693084716796875\n",
            "epoch: 45 loss: 9.691205024719238\n",
            "epoch: 46 loss: 9.689398765563965\n",
            "epoch: 47 loss: 9.687664031982422\n",
            "epoch: 48 loss: 9.685998916625977\n",
            "epoch: 49 loss: 9.684398651123047\n",
            "epoch: 50 loss: 9.682860374450684\n",
            "epoch: 51 loss: 9.681385040283203\n",
            "epoch: 52 loss: 9.679966926574707\n",
            "epoch: 53 loss: 9.678606986999512\n",
            "epoch: 54 loss: 9.677298545837402\n",
            "epoch: 55 loss: 9.676043510437012\n",
            "epoch: 56 loss: 9.674837112426758\n",
            "epoch: 57 loss: 9.67367935180664\n",
            "epoch: 58 loss: 9.672565460205078\n",
            "epoch: 59 loss: 9.671497344970703\n",
            "epoch: 60 loss: 9.67047119140625\n",
            "epoch: 61 loss: 9.669485092163086\n",
            "epoch: 62 loss: 9.668539047241211\n",
            "epoch: 63 loss: 9.66762924194336\n",
            "epoch: 64 loss: 9.666756629943848\n",
            "epoch: 65 loss: 9.665916442871094\n",
            "epoch: 66 loss: 9.665112495422363\n",
            "epoch: 67 loss: 9.664338111877441\n",
            "epoch: 68 loss: 9.663596153259277\n",
            "epoch: 69 loss: 9.662881851196289\n",
            "epoch: 70 loss: 9.66219711303711\n",
            "epoch: 71 loss: 9.661539077758789\n",
            "epoch: 72 loss: 9.660906791687012\n",
            "epoch: 73 loss: 9.660300254821777\n",
            "epoch: 74 loss: 9.659716606140137\n",
            "epoch: 75 loss: 9.659156799316406\n",
            "epoch: 76 loss: 9.658618927001953\n",
            "epoch: 77 loss: 9.658101081848145\n",
            "epoch: 78 loss: 9.65760612487793\n",
            "epoch: 79 loss: 9.657129287719727\n",
            "epoch: 80 loss: 9.656671524047852\n",
            "epoch: 81 loss: 9.656231880187988\n",
            "epoch: 82 loss: 9.65580940246582\n",
            "epoch: 83 loss: 9.655404090881348\n",
            "epoch: 84 loss: 9.65501594543457\n",
            "epoch: 85 loss: 9.654641151428223\n",
            "epoch: 86 loss: 9.654282569885254\n",
            "epoch: 87 loss: 9.653936386108398\n",
            "epoch: 88 loss: 9.653604507446289\n",
            "epoch: 89 loss: 9.653286933898926\n",
            "epoch: 90 loss: 9.652981758117676\n",
            "epoch: 91 loss: 9.652688026428223\n",
            "epoch: 92 loss: 9.652405738830566\n",
            "epoch: 93 loss: 9.65213394165039\n",
            "epoch: 94 loss: 9.651875495910645\n",
            "epoch: 95 loss: 9.651625633239746\n",
            "epoch: 96 loss: 9.651385307312012\n",
            "epoch: 97 loss: 9.651154518127441\n",
            "epoch: 98 loss: 9.650934219360352\n",
            "epoch: 99 loss: 9.650721549987793\n"
          ],
          "name": "stdout"
        }
      ]
    },
    {
      "cell_type": "code",
      "metadata": {
        "colab": {
          "base_uri": "https://localhost:8080/",
          "height": 296
        },
        "id": "fFJzXFfAtG2K",
        "outputId": "7e9074f8-cf18-4339-ab04-f0ee6d23cfd8"
      },
      "source": [
        "plt.plot(range(epochs), losses)\n",
        "plt.ylabel(\"Loss\")\n",
        "plt.xlabel(\"epoch\")"
      ],
      "execution_count": null,
      "outputs": [
        {
          "output_type": "execute_result",
          "data": {
            "text/plain": [
              "Text(0.5, 0, 'epoch')"
            ]
          },
          "metadata": {},
          "execution_count": 20
        },
        {
          "output_type": "display_data",
          "data": {
            "image/png": "[encoded data removed]",
            "text/plain": [
              "<Figure size 432x288 with 1 Axes>"
            ]
          },
          "metadata": {
            "needs_background": "light"
          }
        }
      ]
    },
    {
      "cell_type": "code",
      "metadata": {
        "colab": {
          "base_uri": "https://localhost:8080/",
          "height": 265
        },
        "id": "UKag-eIc1hH_",
        "outputId": "bdb64925-00e5-4ba9-ef0a-b339a693aac2"
      },
      "source": [
        "plot_fit(\"Trained model\")"
      ],
      "execution_count": null,
      "outputs": [
        {
          "output_type": "display_data",
          "data": {
            "image/png": "[encoded data removed]",
            "text/plain": [
              "<Figure size 432x288 with 1 Axes>"
            ]
          },
          "metadata": {
            "needs_background": "light"
          }
        }
      ]
    },
    {
      "cell_type": "code",
      "metadata": {
        "colab": {
          "base_uri": "https://localhost:8080/"
        },
        "id": "lwu2kxEC1-96",
        "outputId": "78008d14-8d94-4609-ea21-dd54efb9595c"
      },
      "source": [
        "x = [1,2,3]\n",
        "y = [4,5,6]\n",
        "\n",
        "print(list(zip(x, y)))"
      ],
      "execution_count": null,
      "outputs": [
        {
          "output_type": "stream",
          "text": [
            "[(1, 4), (2, 5), (3, 6)]\n"
          ],
          "name": "stdout"
        }
      ]
    },
    {
      "cell_type": "code",
      "metadata": {
        "colab": {
          "base_uri": "https://localhost:8080/"
        },
        "id": "iIbIe0xeAshi",
        "outputId": "2a64278f-4cec-4602-ea48-2f6e5b760ab9"
      },
      "source": [
        "for i, j in zip(x, y):\n",
        "    print(i, j)"
      ],
      "execution_count": null,
      "outputs": [
        {
          "output_type": "stream",
          "text": [
            "1 4\n",
            "2 5\n",
            "3 6\n"
          ],
          "name": "stdout"
        }
      ]
    },
    {
      "cell_type": "code",
      "metadata": {
        "id": "JYQ1AFxBIUCZ"
      },
      "source": [
        ""
      ],
      "execution_count": null,
      "outputs": []
    }
  ]
}